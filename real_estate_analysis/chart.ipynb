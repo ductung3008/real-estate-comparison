{
 "cells": [
  {
   "cell_type": "code",
   "execution_count": 5,
   "metadata": {},
   "outputs": [],
   "source": [
    "# Import các thư viện\n",
    "import pandas as pd\n",
    "import matplotlib.pyplot as plt\n",
    "import re"
   ]
  },
  {
   "cell_type": "code",
   "execution_count": 2,
   "metadata": {},
   "outputs": [],
   "source": [
    "# Đọc dữ liệu\n",
    "df = pd.read_csv('data/db.csv')"
   ]
  },
  {
   "cell_type": "code",
   "execution_count": null,
   "metadata": {},
   "outputs": [],
   "source": [
    "bins = [0, 2, 3, 4, 5, 6, 7, 8, 9, 10, float('inf')]\n",
    "labels = ['< 2 tỷ', '2 - 3 tỷ', '3 - 4 tỷ', '4 - 5 tỷ', '5 - 6 tỷ', \n",
    "          '6 - 7 tỷ', '7 - 8 tỷ', '8 - 9 tỷ', '9 - 10 tỷ', '> 10 tỷ']\n",
    "\n",
    "df['max_price_category'] = pd.cut(df['max_selling_price'] / 1e9, bins=bins, labels=labels, right=False)\n",
    "price_counts = df['price_category'].value_counts().sort_index()\n",
    "\n",
    "# Vẽ biểu đồ cột cho lượng dự án theo khoảng giá\n",
    "plt.figure(figsize=(10, 6))\n",
    "price_counts.plot(kind='bar', color='skyblue')\n",
    "\n",
    "# Thêm tiêu đề và nhãn cho biểu đồ\n",
    "plt.title('Number of Projects by Price Range')\n",
    "plt.xlabel('Price Range (tỷ VND)')\n",
    "plt.ylabel('Number of Projects')\n",
    "plt.xticks(rotation=45)\n",
    "plt.grid(True)\n",
    "\n",
    "# Hiển thị biểu đồ\n",
    "plt.tight_layout()\n",
    "plt.show()\n"
   ]
  },
  {
   "cell_type": "code",
   "execution_count": null,
   "metadata": {},
   "outputs": [],
   "source": [
    "# Biểu đồ lượng dự án theo diện tích\n",
    "bins = [0, 0.5, 1, 5, 10, 100, float('inf')]  # Các khoảng diện tích (tính bằng ha)\n",
    "labels = ['< 0.5 ha', '0.5 - 1 ha', '1 - 5 ha', '5 - 10 ha', '10-100 ha', '> 100 ha']\n",
    "\n",
    "df['area_category'] = pd.cut(df['total_area'], bins=bins, labels=labels, right=False)\n",
    "\n",
    "# Vẽ biểu đồ cột (bar plot) cho số lượng dự án ở từng khoảng diện tích\n",
    "plt.figure(figsize=(8, 6))\n",
    "df['area_category'].value_counts().plot(kind='bar', color='skyblue')\n",
    "\n",
    "# Thêm tiêu đề và nhãn\n",
    "plt.title('Distribution of Projects by Area')\n",
    "plt.xlabel('Area Categories')\n",
    "plt.ylabel('Number of Projects')\n",
    "plt.xticks(rotation=45)\n",
    "plt.grid(True)\n",
    "\n",
    "# Hiển thị biểu đồ\n",
    "plt.show()"
   ]
  },
  {
   "cell_type": "code",
   "execution_count": null,
   "metadata": {},
   "outputs": [],
   "source": [
    "# Biểu đồ lượng dự án theo quận\n",
    "# Hàm trích xuất tên quận từ địa chỉ\n",
    "def extract_district(address):\n",
    "    match = re.search(r'Q\\. (.*?),', address)\n",
    "    if match:\n",
    "        return match.group(1).strip()\n",
    "    return None\n",
    "\n",
    "# Tạo cột mới 'district' chứa tên quận\n",
    "df['district'] = df['address'].apply(extract_district)\n",
    "\n",
    "# Đếm số lượng dự án theo từng quận\n",
    "district_counts = df['district'].value_counts()\n",
    "\n",
    "# Vẽ biểu đồ tròn\n",
    "plt.figure(figsize=(8, 8))\n",
    "district_counts.plot(kind='pie', autopct='%1.1f%%', startangle=90, colormap='tab20')\n",
    "\n",
    "# Thêm tiêu đề\n",
    "plt.title('Distribution of Projects by District')\n",
    "plt.ylabel('')  # Ẩn n  hãn trục Y\n",
    "plt.axis('equal')  # Đảm bảo biểu đồ tròn\n",
    "\n",
    "# Hiển thị biểu đồ\n",
    "plt.tight_layout()\n",
    "plt.show()"
   ]
  },
  {
   "cell_type": "code",
   "execution_count": null,
   "metadata": {},
   "outputs": [],
   "source": [
    "# Biểu đồ lượng dự án theo giá đỗ xe\n",
    "\n",
    "# Xác định các khoảng phí gửi xe\n",
    "bins = [-float('inf'), 0, 100000, 500000, 1000000, float('inf')]\n",
    "labels = ['No Fee', '0 - 100,000 VND', '100,000 - 500,000 VND', '500,000 - 1 Million VND', '> 1 Million VND']\n",
    "\n",
    "df['bike_parking_category'] = pd.cut(df['bike_parking_monthly'], bins=bins, labels=labels)\n",
    "df['car_parking_category'] = pd.cut(df['car_parking_monthly'], bins=bins, labels=labels)\n",
    "\n",
    "# Đếm số lượng dự án theo từng khoảng phí\n",
    "bike_counts = df['bike_parking_category'].value_counts().sort_index()\n",
    "car_counts = df['car_parking_category'].value_counts().sort_index()\n",
    "\n",
    "# Vẽ biểu đồ cột đôi\n",
    "fig, ax = plt.subplots(figsize=(10, 6))\n",
    "bar_width = 0.35\n",
    "index = range(len(labels))\n",
    "ax.bar(index, bike_counts, bar_width, label='Bike Parking', color='skyblue')\n",
    "ax.bar([i + bar_width for i in index], car_counts, bar_width, label='Car Parking', color='orange')\n",
    "\n",
    "# Thêm tiêu đề và nhãn\n",
    "ax.set_title('Comparison of Bike and Car Parking Fees by Category')\n",
    "ax.set_xlabel('Parking Fee Category')\n",
    "ax.set_ylabel('Number of Projects')\n",
    "ax.set_xticks([i + bar_width / 2 for i in index])\n",
    "ax.set_xticklabels(labels, rotation=45)\n",
    "ax.legend()\n",
    "\n",
    "plt.tight_layout()\n",
    "plt.grid(True)\n",
    "plt.show()"
   ]
  }
 ],
 "metadata": {
  "kernelspec": {
   "display_name": "base",
   "language": "python",
   "name": "python3"
  },
  "language_info": {
   "codemirror_mode": {
    "name": "ipython",
    "version": 3
   },
   "file_extension": ".py",
   "mimetype": "text/x-python",
   "name": "python",
   "nbconvert_exporter": "python",
   "pygments_lexer": "ipython3",
   "version": "3.11.3"
  }
 },
 "nbformat": 4,
 "nbformat_minor": 2
}
